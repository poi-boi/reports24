{
 "cells": [
  {
   "cell_type": "code",
   "execution_count": 1,
   "id": "9ccc7761-39ec-4018-b43b-19f7f7431e99",
   "metadata": {},
   "outputs": [
    {
     "name": "stderr",
     "output_type": "stream",
     "text": [
      "Unable to create process using 'C:\\Users\\Gayatri kulkarni\\anaconda3\\python.exe \"C:\\Users\\Gayatri kulkarni\\anaconda3\\Scripts\\pip-script.py\" install python-aiml'\n"
     ]
    }
   ],
   "source": [
    "!pip install python-aiml\n"
   ]
  },
  {
   "cell_type": "code",
   "execution_count": 2,
   "id": "784b664d-c307-4fd0-b011-24af8efe5526",
   "metadata": {},
   "outputs": [
    {
     "name": "stdout",
     "output_type": "stream",
     "text": [
      "Collecting python-aiml\n",
      "  Downloading python-aiml-0.9.3.zip (2.1 MB)\n",
      "     ---------------------------------------- 0.0/2.1 MB ? eta -:--:--\n",
      "      --------------------------------------- 0.0/2.1 MB 1.4 MB/s eta 0:00:02\n",
      "     - -------------------------------------- 0.1/2.1 MB 787.7 kB/s eta 0:00:03\n",
      "     ----- ---------------------------------- 0.3/2.1 MB 2.7 MB/s eta 0:00:01\n",
      "     -------- ------------------------------- 0.4/2.1 MB 3.4 MB/s eta 0:00:01\n",
      "     ----------- ---------------------------- 0.6/2.1 MB 3.2 MB/s eta 0:00:01\n",
      "     ---------------- ----------------------- 0.9/2.1 MB 3.9 MB/s eta 0:00:01\n",
      "     ----------------- ---------------------- 0.9/2.1 MB 3.3 MB/s eta 0:00:01\n",
      "     ----------------- ---------------------- 1.0/2.1 MB 3.2 MB/s eta 0:00:01\n",
      "     ----------------- ---------------------- 1.0/2.1 MB 3.2 MB/s eta 0:00:01\n",
      "     ----------------------- ---------------- 1.2/2.1 MB 2.9 MB/s eta 0:00:01\n",
      "     --------------------------- ------------ 1.5/2.1 MB 3.3 MB/s eta 0:00:01\n",
      "     ----------------------------- ---------- 1.6/2.1 MB 3.2 MB/s eta 0:00:01\n",
      "     ----------------------------------- ---- 1.9/2.1 MB 3.4 MB/s eta 0:00:01\n",
      "     ----------------------------------- ---- 1.9/2.1 MB 3.3 MB/s eta 0:00:01\n",
      "     ---------------------------------------  2.1/2.1 MB 3.5 MB/s eta 0:00:01\n",
      "     ---------------------------------------- 2.1/2.1 MB 3.3 MB/s eta 0:00:00\n",
      "  Preparing metadata (setup.py): started\n",
      "  Preparing metadata (setup.py): finished with status 'done'\n",
      "Requirement already satisfied: setuptools in c:\\users\\gayatri kulkarni\\anaconda3\\lib\\site-packages (from python-aiml) (69.5.1)\n",
      "Building wheels for collected packages: python-aiml\n",
      "  Building wheel for python-aiml (setup.py): started\n",
      "  Building wheel for python-aiml (setup.py): finished with status 'done'\n",
      "  Created wheel for python-aiml: filename=python_aiml-0.9.3-py3-none-any.whl size=2122500 sha256=1fc258424aba30c9d8a388d1fbf7e289e033717c53e507118685efea3fd3e0e9\n",
      "  Stored in directory: c:\\users\\gayatri kulkarni\\appdata\\local\\pip\\cache\\wheels\\d4\\34\\05\\c1b92f9583b8fa5cb65a2acd95f020e314cb599054e4682f33\n",
      "Successfully built python-aiml\n",
      "Installing collected packages: python-aiml\n",
      "Successfully installed python-aiml-0.9.3\n",
      "Note: you may need to restart the kernel to use updated packages.\n"
     ]
    }
   ],
   "source": [
    "pip install python-aiml"
   ]
  },
  {
   "cell_type": "code",
   "execution_count": 2,
   "id": "37823db7-9dfd-495d-b39b-d8cd61940fca",
   "metadata": {},
   "outputs": [
    {
     "name": "stdout",
     "output_type": "stream",
     "text": [
      "Loading flu.aiml...done (0.00 seconds)\n",
      "Expert System for Identifying Flu Symptoms\n",
      "Type 'bye' to exit the conversation.\n"
     ]
    },
    {
     "name": "stdin",
     "output_type": "stream",
     "text": [
      "You:  What are flu symptoms\n"
     ]
    },
    {
     "name": "stdout",
     "output_type": "stream",
     "text": [
      "System: Flu symptoms usually include fever, chills, muscle aches, cough, congestion, runny nose, headaches, and fatigue.\n"
     ]
    },
    {
     "name": "stdin",
     "output_type": "stream",
     "text": [
      "You:   I have fever and cough\n"
     ]
    },
    {
     "name": "stdout",
     "output_type": "stream",
     "text": [
      "System: These symptoms could be associated with the flu. However, I recommend visiting a healthcare professional for an accurate diagnosis.\n"
     ]
    },
    {
     "name": "stdin",
     "output_type": "stream",
     "text": [
      "You:  How can I prevent flu\n"
     ]
    },
    {
     "name": "stdout",
     "output_type": "stream",
     "text": [
      "System: The best way to prevent the flu is by getting a flu vaccine each year. Additionally, wash your hands frequently, avoid close contact with sick people, and maintain a healthy lifestyle.\n"
     ]
    },
    {
     "name": "stdin",
     "output_type": "stream",
     "text": [
      "You:  bye\n"
     ]
    },
    {
     "name": "stdout",
     "output_type": "stream",
     "text": [
      "System: Goodbye! Stay healthy.\n",
      "Gayatri Kulkarni-53004230002\n"
     ]
    }
   ],
   "source": [
    "import aiml\n",
    "\n",
    "# Create a Kernel instance\n",
    "kernel = aiml.Kernel()\n",
    "\n",
    "# Load AIML files\n",
    "kernel.learn(\"flu.aiml\")\n",
    "\n",
    "# Loop to interact with the expert system\n",
    "print(\"Expert System for Identifying Flu Symptoms\")\n",
    "print(\"Type 'bye' to exit the conversation.\")\n",
    "\n",
    "while True:\n",
    "    user_input = input(\"You: \")\n",
    "\n",
    "    # Exit the conversation if the user types 'bye'\n",
    "    if user_input.lower() == \"bye\":\n",
    "        print(\"System: Goodbye! Stay healthy.\")\n",
    "        break\n",
    "\n",
    "    # Get the system's response\n",
    "    response = kernel.respond(user_input.upper())\n",
    "    \n",
    "    # Print the system's response\n",
    "    print(f\"System: {response}\")\n",
    "print('Gayatri Kulkarni-53004230002')"
   ]
  },
  {
   "cell_type": "code",
   "execution_count": null,
   "id": "b66f200b-74fb-44e9-bfd3-4ac86b2d3cdf",
   "metadata": {},
   "outputs": [],
   "source": []
  },
  {
   "cell_type": "code",
   "execution_count": null,
   "id": "be37fdd9-dee8-4b44-aa4a-8cda8b373b10",
   "metadata": {},
   "outputs": [],
   "source": []
  }
 ],
 "metadata": {
  "kernelspec": {
   "display_name": "Python 3 (ipykernel)",
   "language": "python",
   "name": "python3"
  },
  "language_info": {
   "codemirror_mode": {
    "name": "ipython",
    "version": 3
   },
   "file_extension": ".py",
   "mimetype": "text/x-python",
   "name": "python",
   "nbconvert_exporter": "python",
   "pygments_lexer": "ipython3",
   "version": "3.12.4"
  }
 },
 "nbformat": 4,
 "nbformat_minor": 5
}
